{
 "cells": [
  {
   "cell_type": "markdown",
   "id": "5bb30613",
   "metadata": {},
   "source": [
    "## Why using Numpy if we have python lists ?\n",
    "NumPy is more fast than python list because is store just the binary form of the number instead the in list we store many other information related to the behivior of python objects.\n",
    "\n",
    "also in numpy we don't check the type of the variable each time we hava one fixed type (less work ==> more performance)\n",
    "\n",
    "also in numpy for when we create an array we allow for it a continus space memry each element is in the next of the other element. But in the python list we don't have a coninus memory.\n",
    "\n",
    "also we can do more with numpy!!!.\n",
    "\n",
    "all resourses for this courses are quoted from the official numpy documentation https://numpy.org/doc/\n",
    "\n",
    "## Load NumPy "
   ]
  },
  {
   "cell_type": "code",
   "execution_count": 1,
   "id": "e5070dfe",
   "metadata": {},
   "outputs": [],
   "source": [
    "import numpy as np"
   ]
  },
  {
   "cell_type": "markdown",
   "id": "7567d64b",
   "metadata": {},
   "source": [
    "## The Basics"
   ]
  },
  {
   "cell_type": "code",
   "execution_count": 2,
   "id": "c5c4b5f3",
   "metadata": {},
   "outputs": [
    {
     "data": {
      "text/plain": [
       "array([1, 2, 3])"
      ]
     },
     "execution_count": 2,
     "metadata": {},
     "output_type": "execute_result"
    }
   ],
   "source": [
    "\n",
    "a = np.array([1,2,3])\n",
    "a"
   ]
  },
  {
   "cell_type": "code",
   "execution_count": 3,
   "id": "0157560f",
   "metadata": {},
   "outputs": [
    {
     "data": {
      "text/plain": [
       "array([[9, 8, 7, 5, 5, 4, 3],\n",
       "       [9, 7, 0, 1, 5, 9, 0]])"
      ]
     },
     "execution_count": 3,
     "metadata": {},
     "output_type": "execute_result"
    }
   ],
   "source": [
    "\n",
    "b = np.array([[9,8,7,5,5,4,3],[9,7,0,1,5,9,0]])\n",
    "b"
   ]
  },
  {
   "cell_type": "code",
   "execution_count": 4,
   "id": "d40dcaa0",
   "metadata": {},
   "outputs": [
    {
     "name": "stdout",
     "output_type": "stream",
     "text": [
      "2\n",
      "1\n"
     ]
    }
   ],
   "source": [
    "# get dimention\n",
    "print(b.ndim)\n",
    "print(a.ndim)"
   ]
  },
  {
   "cell_type": "code",
   "execution_count": 5,
   "id": "0e25bc40",
   "metadata": {},
   "outputs": [
    {
     "name": "stdout",
     "output_type": "stream",
     "text": [
      "(2, 7)\n",
      "(3,)\n"
     ]
    }
   ],
   "source": [
    "# get Shape\n",
    "print(b.shape)\n",
    "print(a.shape)"
   ]
  },
  {
   "cell_type": "code",
   "execution_count": 6,
   "id": "d8e98811",
   "metadata": {},
   "outputs": [
    {
     "name": "stdout",
     "output_type": "stream",
     "text": [
      "int32\n"
     ]
    }
   ],
   "source": [
    "# get type\n",
    "print(a.dtype)"
   ]
  },
  {
   "cell_type": "code",
   "execution_count": 7,
   "id": "9b993f2f",
   "metadata": {},
   "outputs": [
    {
     "name": "stdout",
     "output_type": "stream",
     "text": [
      "4\n"
     ]
    }
   ],
   "source": [
    "# get size\n",
    "print(a.itemsize)"
   ]
  },
  {
   "cell_type": "code",
   "execution_count": 8,
   "id": "61de2cfb",
   "metadata": {},
   "outputs": [
    {
     "name": "stdout",
     "output_type": "stream",
     "text": [
      "12\n"
     ]
    },
    {
     "data": {
      "text/plain": [
       "12"
      ]
     },
     "execution_count": 8,
     "metadata": {},
     "output_type": "execute_result"
    }
   ],
   "source": [
    "# total size\n",
    "print(a.size*a.itemsize)\n",
    "a.nbytes"
   ]
  },
  {
   "cell_type": "markdown",
   "id": "a7a50e6c",
   "metadata": {},
   "source": [
    "you can specified your data to be more efficient with adding \n",
    "some proprieteis to the array dtype"
   ]
  },
  {
   "cell_type": "code",
   "execution_count": 9,
   "id": "ff9f4e8e",
   "metadata": {},
   "outputs": [
    {
     "name": "stdout",
     "output_type": "stream",
     "text": [
      "int16\n",
      "[[1 2 3]\n",
      " [1 2 3]] \n",
      " 12\n"
     ]
    }
   ],
   "source": [
    "a = np.array([[1,2,3],[1,2,3]],dtype = 'int16')\n",
    "print(a.dtype)\n",
    "print(a,'\\n',a.nbytes)\n"
   ]
  },
  {
   "cell_type": "markdown",
   "id": "80321107",
   "metadata": {},
   "source": [
    "**Access to element**"
   ]
  },
  {
   "cell_type": "code",
   "execution_count": 10,
   "id": "534f2273",
   "metadata": {},
   "outputs": [
    {
     "data": {
      "text/plain": [
       "array([[0, 8, 7, 5, 5, 4, 3],\n",
       "       [1, 7, 0, 1, 5, 9, 0],\n",
       "       [2, 8, 7, 5, 5, 4, 3],\n",
       "       [3, 7, 0, 1, 5, 9, 0]])"
      ]
     },
     "execution_count": 10,
     "metadata": {},
     "output_type": "execute_result"
    }
   ],
   "source": [
    "a = np.array([[0,8,7,5,5,4,3],\n",
    "              [1,7,0,1,5,9,0],\n",
    "              [2,8,7,5,5,4,3],\n",
    "              [3,7,0,1,5,9,0]])\n",
    "a"
   ]
  },
  {
   "cell_type": "code",
   "execution_count": 11,
   "id": "6bbcfe00",
   "metadata": {},
   "outputs": [
    {
     "name": "stdout",
     "output_type": "stream",
     "text": [
      "9\n",
      "9\n"
     ]
    }
   ],
   "source": [
    "# get a specific element :\n",
    "print(a[1][5]) # way 1\n",
    "print(a[1,5])  # way 2"
   ]
  },
  {
   "cell_type": "code",
   "execution_count": 12,
   "id": "a1b18b98",
   "metadata": {},
   "outputs": [
    {
     "name": "stdout",
     "output_type": "stream",
     "text": [
      "[0 8 7 5 5 4 3]\n",
      "[7 0 7 0]\n"
     ]
    }
   ],
   "source": [
    "# get a specific row\n",
    "print(a[0,:])\n",
    "# get a specific column\n",
    "print(a[:,2])"
   ]
  },
  {
   "cell_type": "code",
   "execution_count": 13,
   "id": "f774362c",
   "metadata": {},
   "outputs": [
    {
     "name": "stdout",
     "output_type": "stream",
     "text": [
      "[8 5]\n",
      "[0 2]\n",
      "[8 5]\n"
     ]
    }
   ],
   "source": [
    "# get a specific values : [start_index , end_index , step_to_take]:\n",
    "print(a[0,1:5:2])\n",
    "print(a[0:3:2,0])\n",
    "print(a[0,1:-2:2])"
   ]
  },
  {
   "cell_type": "code",
   "execution_count": 14,
   "id": "7cf834fa",
   "metadata": {},
   "outputs": [
    {
     "data": {
      "text/plain": [
       "array([[   0,    8,    7,    5,    5,    4,    3],\n",
       "       [   1,    7,    0, 9999,    5,    9,    0],\n",
       "       [   2,    8,    7,    5,    5,    4,    3],\n",
       "       [   3,    7,    0,    1,    5,    9,    0]])"
      ]
     },
     "execution_count": 14,
     "metadata": {},
     "output_type": "execute_result"
    }
   ],
   "source": [
    "# change a specific value in array\n",
    "a[1,3]= 9999\n",
    "a"
   ]
  },
  {
   "cell_type": "markdown",
   "id": "d73df7bd",
   "metadata": {},
   "source": [
    "Theirs a banch of thing that u can do with indexes now you have the assencial try to applayn it in 3d exemples (tensors), but you dont really need it for beginer problems."
   ]
  },
  {
   "cell_type": "markdown",
   "id": "40752edb",
   "metadata": {},
   "source": [
    " ### initializing Different Types of Arrays"
   ]
  },
  {
   "cell_type": "code",
   "execution_count": 15,
   "id": "33182654",
   "metadata": {},
   "outputs": [
    {
     "data": {
      "text/plain": [
       "array([[0., 0., 0.],\n",
       "       [0., 0., 0.]])"
      ]
     },
     "execution_count": 15,
     "metadata": {},
     "output_type": "execute_result"
    }
   ],
   "source": [
    "# Zeros matrix\n",
    "np.zeros((2,3))"
   ]
  },
  {
   "cell_type": "code",
   "execution_count": 16,
   "id": "c9ede528",
   "metadata": {},
   "outputs": [
    {
     "data": {
      "text/plain": [
       "array([[1, 1, 1],\n",
       "       [1, 1, 1]], dtype=int16)"
      ]
     },
     "execution_count": 16,
     "metadata": {},
     "output_type": "execute_result"
    }
   ],
   "source": [
    "# ones Matrix / specifing the tye is opional\n",
    "np.ones((2,3),dtype='int16')"
   ]
  },
  {
   "cell_type": "code",
   "execution_count": 17,
   "id": "ff2e8975",
   "metadata": {},
   "outputs": [
    {
     "data": {
      "text/plain": [
       "array([[999, 999],\n",
       "       [999, 999]])"
      ]
     },
     "execution_count": 17,
     "metadata": {},
     "output_type": "execute_result"
    }
   ],
   "source": [
    "# chose a specifing number to initialize a matrix :\n",
    "np.full((2,2),999)"
   ]
  },
  {
   "cell_type": "code",
   "execution_count": 18,
   "id": "ad9ec671",
   "metadata": {
    "scrolled": true
   },
   "outputs": [
    {
     "name": "stdout",
     "output_type": "stream",
     "text": [
      "a =\n",
      "[[   0    8    7    5    5    4    3]\n",
      " [   1    7    0 9999    5    9    0]\n",
      " [   2    8    7    5    5    4    3]\n",
      " [   3    7    0    1    5    9    0]]\n",
      "\n",
      "full_like(a,1234) =  \n",
      "[[1234 1234 1234 1234 1234 1234 1234]\n",
      " [1234 1234 1234 1234 1234 1234 1234]\n",
      " [1234 1234 1234 1234 1234 1234 1234]\n",
      " [1234 1234 1234 1234 1234 1234 1234]]\n"
     ]
    }
   ],
   "source": [
    "# full like method :\n",
    "'''                  is used to create a matrix with a unifie number \n",
    " but with a size of an other matrix already exist. '''\n",
    "print('a =')\n",
    "print(a)\n",
    "print('\\nfull_like(a,1234) =  ')\n",
    "print(np.full_like(a,1234))"
   ]
  },
  {
   "cell_type": "markdown",
   "id": "15f52a49",
   "metadata": {},
   "source": [
    "**INITIALIZE WITH A RANDOM NUMBER :**"
   ]
  },
  {
   "cell_type": "code",
   "execution_count": 19,
   "id": "dc861eba",
   "metadata": {
    "scrolled": true
   },
   "outputs": [
    {
     "data": {
      "text/plain": [
       "array([[0.88372322, 0.86897966],\n",
       "       [0.46497273, 0.45664644],\n",
       "       [0.02776845, 0.91500839],\n",
       "       [0.62730686, 0.65206559]])"
      ]
     },
     "execution_count": 19,
     "metadata": {},
     "output_type": "execute_result"
    }
   ],
   "source": [
    "# randm values betwen 0 and 1 dicimal\n",
    "np.random.rand(4,2)"
   ]
  },
  {
   "cell_type": "code",
   "execution_count": 20,
   "id": "ccdb2103",
   "metadata": {},
   "outputs": [
    {
     "data": {
      "text/plain": [
       "3"
      ]
     },
     "execution_count": 20,
     "metadata": {},
     "output_type": "execute_result"
    }
   ],
   "source": [
    "# random integer value\n",
    "np.random.randint(7)"
   ]
  },
  {
   "cell_type": "code",
   "execution_count": 21,
   "id": "f1e98b0a",
   "metadata": {},
   "outputs": [
    {
     "data": {
      "text/plain": [
       "array([[5, 6, 4],\n",
       "       [9, 3, 2],\n",
       "       [8, 3, 4]])"
      ]
     },
     "execution_count": 21,
     "metadata": {},
     "output_type": "execute_result"
    }
   ],
   "source": [
    "# random matrix of int\n",
    "np.random.randint(10,size=(3,3))"
   ]
  },
  {
   "cell_type": "code",
   "execution_count": 22,
   "id": "cc15eb51",
   "metadata": {
    "scrolled": true
   },
   "outputs": [
    {
     "data": {
      "text/plain": [
       "array([[1., 0., 0., 0., 0.],\n",
       "       [0., 1., 0., 0., 0.],\n",
       "       [0., 0., 1., 0., 0.],\n",
       "       [0., 0., 0., 1., 0.],\n",
       "       [0., 0., 0., 0., 1.]])"
      ]
     },
     "execution_count": 22,
     "metadata": {},
     "output_type": "execute_result"
    }
   ],
   "source": [
    "# identity matrix:\n",
    "np.identity(5)"
   ]
  },
  {
   "cell_type": "code",
   "execution_count": 23,
   "id": "d9526a97",
   "metadata": {},
   "outputs": [
    {
     "name": "stdout",
     "output_type": "stream",
     "text": [
      "[[1 2 3]]\n"
     ]
    },
    {
     "data": {
      "text/plain": [
       "array([[1, 2, 3],\n",
       "       [1, 2, 3],\n",
       "       [1, 2, 3]])"
      ]
     },
     "execution_count": 23,
     "metadata": {},
     "output_type": "execute_result"
    }
   ],
   "source": [
    "# repeat an array :\n",
    "arr = np.array([[1,2,3]])\n",
    "print(arr)\n",
    "r1 = np.repeat(arr ,3 ,axis=0)\n",
    "r1"
   ]
  },
  {
   "cell_type": "markdown",
   "id": "6fd8c1e6",
   "metadata": {},
   "source": [
    "**Be careful with copying matrix in numpy !!**"
   ]
  },
  {
   "cell_type": "code",
   "execution_count": 24,
   "id": "89fc8bd1",
   "metadata": {},
   "outputs": [
    {
     "name": "stdout",
     "output_type": "stream",
     "text": [
      "A = \n",
      " [[1 2 3]\n",
      " [4 5 6]\n",
      " [7 8 9]]\n",
      "B = \n",
      " [[1 2 3]\n",
      " [4 5 6]\n",
      " [7 8 9]]\n",
      "B = \n",
      " [[100 100 100]\n",
      " [  4   5   6]\n",
      " [  7   8   9]]\n",
      "A = \n",
      " [[100 100 100]\n",
      " [  4   5   6]\n",
      " [  7   8   9]]\n",
      ">> why A also changed  ? ...\n",
      ">>>> because you don't make a copy to make a copy we just tell \n",
      "numpy to make a = b is not the same thing.\n"
     ]
    }
   ],
   "source": [
    "a = np.array([[1,2,3],[4,5,6],[7,8,9]])\n",
    "print('A = \\n',a)\n",
    "b = a\n",
    "print('B = \\n',b)\n",
    "b[0] = 100\n",
    "print('B = \\n',b)\n",
    "print('A = \\n',a)\n",
    "print('>> why A also changed  ? ...')\n",
    "print('>>>> because you don\\'t make a copy to make a copy we just tell \\nnumpy to make a = b is not the same thing.')"
   ]
  },
  {
   "cell_type": "markdown",
   "id": "5e861329",
   "metadata": {},
   "source": [
    "**To make a copy follow those instraction :**"
   ]
  },
  {
   "cell_type": "code",
   "execution_count": 25,
   "id": "9f4568d9",
   "metadata": {},
   "outputs": [
    {
     "name": "stdout",
     "output_type": "stream",
     "text": [
      "A = \n",
      " [[1 2 3]\n",
      " [4 5 6]\n",
      " [7 8 9]]\n",
      "B = \n",
      " [[1 2 3]\n",
      " [4 5 6]\n",
      " [7 8 9]]\n",
      "B = \n",
      " [[100 100 100]\n",
      " [  4   5   6]\n",
      " [  7   8   9]]\n",
      "A = \n",
      " [[1 2 3]\n",
      " [4 5 6]\n",
      " [7 8 9]]\n",
      "\n",
      ">> yahooo evry thing is fine (; \n"
     ]
    }
   ],
   "source": [
    "a = np.array([[1,2,3],[4,5,6],[7,8,9]])\n",
    "print('A = \\n',a)\n",
    "b = a.copy()       # copy with the copy method\n",
    "print('B = \\n',b)\n",
    "b[0] = 100\n",
    "print('B = \\n',b)\n",
    "print('A = \\n',a)\n",
    "print('\\n>> yahooo evry thing is fine (; ')"
   ]
  },
  {
   "cell_type": "markdown",
   "id": "ffdc90e8",
   "metadata": {},
   "source": [
    "### NumPy operatio \n",
    "just like the array operations . "
   ]
  },
  {
   "cell_type": "code",
   "execution_count": 26,
   "id": "54e3eeb6",
   "metadata": {},
   "outputs": [
    {
     "data": {
      "text/plain": [
       "array([[1, 2, 3],\n",
       "       [4, 5, 6],\n",
       "       [7, 8, 9]])"
      ]
     },
     "execution_count": 26,
     "metadata": {},
     "output_type": "execute_result"
    }
   ],
   "source": [
    "a"
   ]
  },
  {
   "cell_type": "code",
   "execution_count": 27,
   "id": "d2769a51",
   "metadata": {},
   "outputs": [
    {
     "data": {
      "text/plain": [
       "array([[ 3,  4,  5],\n",
       "       [ 6,  7,  8],\n",
       "       [ 9, 10, 11]])"
      ]
     },
     "execution_count": 27,
     "metadata": {},
     "output_type": "execute_result"
    }
   ],
   "source": [
    "a+2"
   ]
  },
  {
   "cell_type": "code",
   "execution_count": 29,
   "id": "ba53baa0",
   "metadata": {},
   "outputs": [
    {
     "data": {
      "text/plain": [
       "array([[-1,  0,  1],\n",
       "       [ 2,  3,  4],\n",
       "       [ 5,  6,  7]])"
      ]
     },
     "execution_count": 29,
     "metadata": {},
     "output_type": "execute_result"
    }
   ],
   "source": [
    "a-2"
   ]
  },
  {
   "cell_type": "code",
   "execution_count": 31,
   "id": "463f6357",
   "metadata": {},
   "outputs": [
    {
     "data": {
      "text/plain": [
       "array([[ 2,  4,  6],\n",
       "       [ 8, 10, 12],\n",
       "       [14, 16, 18]])"
      ]
     },
     "execution_count": 31,
     "metadata": {},
     "output_type": "execute_result"
    }
   ],
   "source": [
    "a*2 #scaler multiplication"
   ]
  },
  {
   "cell_type": "code",
   "execution_count": 32,
   "id": "7538e892",
   "metadata": {},
   "outputs": [
    {
     "data": {
      "text/plain": [
       "array([[ 1,  4,  9],\n",
       "       [16, 25, 36],\n",
       "       [49, 64, 81]], dtype=int32)"
      ]
     },
     "execution_count": 32,
     "metadata": {},
     "output_type": "execute_result"
    }
   ],
   "source": [
    "a**2"
   ]
  },
  {
   "cell_type": "code",
   "execution_count": 33,
   "id": "a71077a8",
   "metadata": {},
   "outputs": [
    {
     "data": {
      "text/plain": [
       "array([[0.5, 1. , 1.5],\n",
       "       [2. , 2.5, 3. ],\n",
       "       [3.5, 4. , 4.5]])"
      ]
     },
     "execution_count": 33,
     "metadata": {},
     "output_type": "execute_result"
    }
   ],
   "source": [
    "a/2"
   ]
  },
  {
   "cell_type": "code",
   "execution_count": 34,
   "id": "849a32b3",
   "metadata": {},
   "outputs": [
    {
     "data": {
      "text/plain": [
       "array([[ 0.84147098,  0.90929743,  0.14112001],\n",
       "       [-0.7568025 , -0.95892427, -0.2794155 ],\n",
       "       [ 0.6569866 ,  0.98935825,  0.41211849]])"
      ]
     },
     "execution_count": 34,
     "metadata": {},
     "output_type": "execute_result"
    }
   ],
   "source": [
    "np.sin(a)"
   ]
  },
  {
   "cell_type": "markdown",
   "id": "bd73c7f6",
   "metadata": {},
   "source": [
    "## Liniar Algebra"
   ]
  },
  {
   "cell_type": "code",
   "execution_count": 35,
   "id": "28a284a2",
   "metadata": {},
   "outputs": [
    {
     "data": {
      "text/plain": [
       "array([[1., 1., 1.],\n",
       "       [1., 1., 1.]])"
      ]
     },
     "execution_count": 35,
     "metadata": {},
     "output_type": "execute_result"
    }
   ],
   "source": [
    "a = np.ones((2,3))\n",
    "a"
   ]
  },
  {
   "cell_type": "code",
   "execution_count": 36,
   "id": "7bed86d1",
   "metadata": {},
   "outputs": [
    {
     "data": {
      "text/plain": [
       "array([[2, 2],\n",
       "       [2, 2],\n",
       "       [2, 2]])"
      ]
     },
     "execution_count": 36,
     "metadata": {},
     "output_type": "execute_result"
    }
   ],
   "source": [
    "b = np.full((3,2),2)\n",
    "b"
   ]
  },
  {
   "cell_type": "markdown",
   "id": "d90e1b31",
   "metadata": {},
   "source": [
    " **NOW WE WANNA TO CALCULATE AB OR A x B :**"
   ]
  },
  {
   "cell_type": "code",
   "execution_count": 41,
   "id": "f7f43824",
   "metadata": {
    "scrolled": true
   },
   "outputs": [
    {
     "name": "stdout",
     "output_type": "stream",
     "text": [
      "A = \n",
      " [[1. 1. 1.]\n",
      " [1. 1. 1.]]\n",
      "\n",
      "B = \n",
      " [[2 2]\n",
      " [2 2]\n",
      " [2 2]]\n",
      "\n",
      "AB = \n",
      "[[6. 6.]\n",
      " [6. 6.]]\n"
     ]
    }
   ],
   "source": [
    "print('A = \\n',a)\n",
    "print('\\nB = \\n',b)\n",
    "print('\\nAB = ')\n",
    "print(np.matmul(a,b))"
   ]
  },
  {
   "cell_type": "markdown",
   "id": "f48e9908",
   "metadata": {},
   "source": [
    "### find determinant "
   ]
  },
  {
   "cell_type": "code",
   "execution_count": 43,
   "id": "a47a0837",
   "metadata": {},
   "outputs": [
    {
     "data": {
      "text/plain": [
       "0.0"
      ]
     },
     "execution_count": 43,
     "metadata": {},
     "output_type": "execute_result"
    }
   ],
   "source": [
    "# find determinant \n",
    "c=np.matmul(a,b)\n",
    "np.linalg.det(c)"
   ]
  },
  {
   "cell_type": "code",
   "execution_count": 44,
   "id": "6c94ff80",
   "metadata": {},
   "outputs": [
    {
     "data": {
      "text/plain": [
       "1.0"
      ]
     },
     "execution_count": 44,
     "metadata": {},
     "output_type": "execute_result"
    }
   ],
   "source": [
    "c=np.identity(3)\n",
    "np.linalg.det(c)"
   ]
  },
  {
   "cell_type": "code",
   "execution_count": 52,
   "id": "af31392e",
   "metadata": {},
   "outputs": [
    {
     "name": "stdout",
     "output_type": "stream",
     "text": [
      "A = \n",
      " [[1 2 3]\n",
      " [4 5 6]\n",
      " [7 8 9]]\n",
      "\n",
      "B = \n",
      " [0 0 0]\n"
     ]
    }
   ],
   "source": [
    "a = np.array([[1,2,3],[4,5,6],[7,8,9]])\n",
    "print('A = \\n',a)\n",
    "b = np.array([0,0,0])\n",
    "print('\\nB = \\n',b)"
   ]
  },
  {
   "cell_type": "code",
   "execution_count": 54,
   "id": "d5b73898",
   "metadata": {},
   "outputs": [
    {
     "data": {
      "text/plain": [
       "array([ 0.,  0., -0.])"
      ]
     },
     "execution_count": 54,
     "metadata": {},
     "output_type": "execute_result"
    }
   ],
   "source": [
    "#solve the liniar system\n",
    "np.linalg.solve(a, b)"
   ]
  },
  {
   "cell_type": "code",
   "execution_count": 57,
   "id": "fc662acc",
   "metadata": {
    "scrolled": true
   },
   "outputs": [
    {
     "name": "stdout",
     "output_type": "stream",
     "text": [
      "[[ 3.15251974e+15 -6.30503948e+15  3.15251974e+15]\n",
      " [-6.30503948e+15  1.26100790e+16 -6.30503948e+15]\n",
      " [ 3.15251974e+15 -6.30503948e+15  3.15251974e+15]]\n"
     ]
    },
    {
     "data": {
      "text/plain": [
       "array([[1., 0., 0.],\n",
       "       [0., 1., 0.],\n",
       "       [0., 0., 1.]])"
      ]
     },
     "execution_count": 57,
     "metadata": {},
     "output_type": "execute_result"
    }
   ],
   "source": [
    "# calculate the inverses\n",
    "print(np.linalg.inv(a))\n",
    "np.linalg.inv(c) #c is the identety matrix we define earlyer"
   ]
  },
  {
   "cell_type": "markdown",
   "id": "bdfc0cdf",
   "metadata": {},
   "source": [
    " for more about liniar algebra in numpy vist : https://docs.scipy.org/doc/numpy/reference/routines.linalg.html"
   ]
  },
  {
   "cell_type": "markdown",
   "id": "62193f89",
   "metadata": {},
   "source": [
    "## Statistics :"
   ]
  },
  {
   "cell_type": "code",
   "execution_count": 58,
   "id": "d32b8238",
   "metadata": {},
   "outputs": [
    {
     "data": {
      "text/plain": [
       "array([[1, 2, 3],\n",
       "       [4, 5, 6]])"
      ]
     },
     "execution_count": 58,
     "metadata": {},
     "output_type": "execute_result"
    }
   ],
   "source": [
    "stats = np.array([[1,2,3],[4,5,6]])\n",
    "stats"
   ]
  },
  {
   "cell_type": "code",
   "execution_count": 59,
   "id": "e3ba7125",
   "metadata": {},
   "outputs": [
    {
     "data": {
      "text/plain": [
       "1"
      ]
     },
     "execution_count": 59,
     "metadata": {},
     "output_type": "execute_result"
    }
   ],
   "source": [
    "np.min(stats)\n"
   ]
  },
  {
   "cell_type": "code",
   "execution_count": 60,
   "id": "069d2e5e",
   "metadata": {},
   "outputs": [
    {
     "data": {
      "text/plain": [
       "array([3, 6])"
      ]
     },
     "execution_count": 60,
     "metadata": {},
     "output_type": "execute_result"
    }
   ],
   "source": [
    "np.max(stats, axis=1)\n"
   ]
  },
  {
   "cell_type": "code",
   "execution_count": 61,
   "id": "caef09b5",
   "metadata": {},
   "outputs": [
    {
     "data": {
      "text/plain": [
       "array([5, 7, 9])"
      ]
     },
     "execution_count": 61,
     "metadata": {},
     "output_type": "execute_result"
    }
   ],
   "source": [
    "np.sum(stats, axis=0)"
   ]
  },
  {
   "cell_type": "markdown",
   "id": "5e172e05",
   "metadata": {},
   "source": [
    "### Reorganizing Arrays"
   ]
  },
  {
   "cell_type": "code",
   "execution_count": 63,
   "id": "168bc96a",
   "metadata": {
    "scrolled": true
   },
   "outputs": [
    {
     "name": "stdout",
     "output_type": "stream",
     "text": [
      "[[1 2 3 4]\n",
      " [5 6 7 8]]\n",
      "\n",
      " [[1]\n",
      " [2]\n",
      " [3]\n",
      " [4]\n",
      " [5]\n",
      " [6]\n",
      " [7]\n",
      " [8]]\n",
      "\n",
      " [[[1 2]\n",
      "  [3 4]]\n",
      "\n",
      " [[5 6]\n",
      "  [7 8]]]\n",
      "\n",
      " [[1 2]\n",
      " [3 4]\n",
      " [5 6]\n",
      " [7 8]]\n"
     ]
    }
   ],
   "source": [
    "\n",
    "before = np.array([[1,2,3,4],[5,6,7,8]])\n",
    "print(before)\n",
    "\n",
    "after = before.reshape((8,1))\n",
    "print('\\n',after)\n",
    "after = before.reshape((2,2,2))\n",
    "print('\\n',after)\n",
    "after = before.reshape((4,2))\n",
    "print('\\n',after)"
   ]
  },
  {
   "cell_type": "code",
   "execution_count": 64,
   "id": "ed5fb386",
   "metadata": {},
   "outputs": [
    {
     "data": {
      "text/plain": [
       "array([[1, 2, 3, 4],\n",
       "       [5, 6, 7, 8],\n",
       "       [1, 2, 3, 4],\n",
       "       [5, 6, 7, 8]])"
      ]
     },
     "execution_count": 64,
     "metadata": {},
     "output_type": "execute_result"
    }
   ],
   "source": [
    "# Vertically stacking vectors\n",
    "v1 = np.array([1,2,3,4])\n",
    "v2 = np.array([5,6,7,8])\n",
    "\n",
    "np.vstack([v1,v2,v1,v2])"
   ]
  },
  {
   "cell_type": "code",
   "execution_count": 65,
   "id": "b89b126f",
   "metadata": {},
   "outputs": [
    {
     "data": {
      "text/plain": [
       "array([[1., 1., 1., 1., 0., 0.],\n",
       "       [1., 1., 1., 1., 0., 0.]])"
      ]
     },
     "execution_count": 65,
     "metadata": {},
     "output_type": "execute_result"
    }
   ],
   "source": [
    "# Horizontal  stack\n",
    "h1 = np.ones((2,4))\n",
    "h2 = np.zeros((2,2))\n",
    "\n",
    "np.hstack((h1,h2))"
   ]
  },
  {
   "cell_type": "markdown",
   "id": "797407b0",
   "metadata": {},
   "source": [
    "### Boolean Masking and Advanced Indexing"
   ]
  },
  {
   "cell_type": "code",
   "execution_count": 71,
   "id": "371c4394",
   "metadata": {
    "scrolled": true
   },
   "outputs": [
    {
     "data": {
      "text/plain": [
       "array([[67, 86, 54, 13, 57],\n",
       "       [40,  2, 73, 98, 16],\n",
       "       [93, 33, 80, 80, 39],\n",
       "       [76, 15, 30, 71, 85],\n",
       "       [89, 94, 66, 69, 72]])"
      ]
     },
     "execution_count": 71,
     "metadata": {},
     "output_type": "execute_result"
    }
   ],
   "source": [
    "a = np.random.randint(100,size=(5,5))\n",
    "a"
   ]
  },
  {
   "cell_type": "code",
   "execution_count": 72,
   "id": "1b7b26bc",
   "metadata": {
    "scrolled": true
   },
   "outputs": [
    {
     "data": {
      "text/plain": [
       "array([[ True,  True,  True, False,  True],\n",
       "       [False, False,  True,  True, False],\n",
       "       [ True, False,  True,  True, False],\n",
       "       [ True, False, False,  True,  True],\n",
       "       [ True,  True,  True,  True,  True]])"
      ]
     },
     "execution_count": 72,
     "metadata": {},
     "output_type": "execute_result"
    }
   ],
   "source": [
    "a > 50"
   ]
  },
  {
   "cell_type": "markdown",
   "id": "50ef0a66",
   "metadata": {},
   "source": [
    "thanks for"
   ]
  }
 ],
 "metadata": {
  "kernelspec": {
   "display_name": "pytorch",
   "language": "python",
   "name": "pytorch"
  },
  "language_info": {
   "codemirror_mode": {
    "name": "ipython",
    "version": 3
   },
   "file_extension": ".py",
   "mimetype": "text/x-python",
   "name": "python",
   "nbconvert_exporter": "python",
   "pygments_lexer": "ipython3",
   "version": "3.6.13"
  }
 },
 "nbformat": 4,
 "nbformat_minor": 5
}
